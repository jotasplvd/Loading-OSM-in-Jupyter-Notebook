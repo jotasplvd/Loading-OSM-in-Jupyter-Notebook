{
 "cells": [
  {
   "cell_type": "markdown",
   "id": "a3351ffd",
   "metadata": {},
   "source": [
    "# Conteo de eventos en torres cercanas a la línea 6 del metro"
   ]
  },
  {
   "cell_type": "code",
   "execution_count": 6,
   "id": "bc176c85",
   "metadata": {},
   "outputs": [],
   "source": [
    "import pandas as pd\n",
    "import geopandas as gpd\n",
    "from shapely.geometry import Point\n",
    "from shapely.geometry.polygon import Polygon\n",
    "import matplotlib.pyplot as plt\n",
    "import numpy as np\n",
    "import glob\n",
    "from shapely import wkt"
   ]
  },
  {
   "cell_type": "markdown",
   "id": "697d41ff",
   "metadata": {},
   "source": [
    "### Se lee la información del día de prueba de CDR"
   ]
  },
  {
   "cell_type": "code",
   "execution_count": 2,
   "id": "ea6838f9",
   "metadata": {},
   "outputs": [],
   "source": [
    "archivos_csv = glob.glob('/home/jsepulveda/testday/*.csv.gz')\n",
    "lista = []\n",
    "for archivo in archivos_csv:\n",
    "    datos = pd.read_csv(archivo)\n",
    "    lista.append(datos)\n"
   ]
  },
  {
   "cell_type": "markdown",
   "id": "aa4a05ef",
   "metadata": {},
   "source": [
    "### Se concatenan los dataframes de los usuarios para generar solo un dataframe"
   ]
  },
  {
   "cell_type": "code",
   "execution_count": 21,
   "id": "9fd41134",
   "metadata": {},
   "outputs": [
    {
     "data": {
      "text/html": [
       "<div>\n",
       "<style scoped>\n",
       "    .dataframe tbody tr th:only-of-type {\n",
       "        vertical-align: middle;\n",
       "    }\n",
       "\n",
       "    .dataframe tbody tr th {\n",
       "        vertical-align: top;\n",
       "    }\n",
       "\n",
       "    .dataframe thead th {\n",
       "        text-align: right;\n",
       "    }\n",
       "</style>\n",
       "<table border=\"1\" class=\"dataframe\">\n",
       "  <thead>\n",
       "    <tr style=\"text-align: right;\">\n",
       "      <th></th>\n",
       "      <th>fecha</th>\n",
       "      <th>hora</th>\n",
       "      <th>dur</th>\n",
       "      <th>numa</th>\n",
       "      <th>numb</th>\n",
       "      <th>rin</th>\n",
       "      <th>rinhead</th>\n",
       "      <th>rintail</th>\n",
       "      <th>tipo</th>\n",
       "    </tr>\n",
       "  </thead>\n",
       "  <tbody>\n",
       "    <tr>\n",
       "      <th>0</th>\n",
       "      <td>171010</td>\n",
       "      <td>193239</td>\n",
       "      <td>0</td>\n",
       "      <td>37a49038d6b3079a14a9876bade5c763be97bb0a028f57...</td>\n",
       "      <td>201d1ad4fde8bea379ee304ff6643cfabba99634569f67...</td>\n",
       "      <td>DEFLTE</td>\n",
       "      <td>DEFLT</td>\n",
       "      <td>E</td>\n",
       "      <td>D</td>\n",
       "    </tr>\n",
       "    <tr>\n",
       "      <th>1</th>\n",
       "      <td>171010</td>\n",
       "      <td>195241</td>\n",
       "      <td>0</td>\n",
       "      <td>37a49038d6b3079a14a9876bade5c763be97bb0a028f57...</td>\n",
       "      <td>201d1ad4fde8bea379ee304ff6643cfabba99634569f67...</td>\n",
       "      <td>DEFLTE</td>\n",
       "      <td>DEFLT</td>\n",
       "      <td>E</td>\n",
       "      <td>D</td>\n",
       "    </tr>\n",
       "    <tr>\n",
       "      <th>2</th>\n",
       "      <td>171010</td>\n",
       "      <td>201242</td>\n",
       "      <td>0</td>\n",
       "      <td>37a49038d6b3079a14a9876bade5c763be97bb0a028f57...</td>\n",
       "      <td>201d1ad4fde8bea379ee304ff6643cfabba99634569f67...</td>\n",
       "      <td>DEFLTE</td>\n",
       "      <td>DEFLT</td>\n",
       "      <td>E</td>\n",
       "      <td>D</td>\n",
       "    </tr>\n",
       "    <tr>\n",
       "      <th>3</th>\n",
       "      <td>171010</td>\n",
       "      <td>203242</td>\n",
       "      <td>0</td>\n",
       "      <td>37a49038d6b3079a14a9876bade5c763be97bb0a028f57...</td>\n",
       "      <td>201d1ad4fde8bea379ee304ff6643cfabba99634569f67...</td>\n",
       "      <td>DEFLTE</td>\n",
       "      <td>DEFLT</td>\n",
       "      <td>E</td>\n",
       "      <td>D</td>\n",
       "    </tr>\n",
       "    <tr>\n",
       "      <th>4</th>\n",
       "      <td>171010</td>\n",
       "      <td>205244</td>\n",
       "      <td>0</td>\n",
       "      <td>37a49038d6b3079a14a9876bade5c763be97bb0a028f57...</td>\n",
       "      <td>201d1ad4fde8bea379ee304ff6643cfabba99634569f67...</td>\n",
       "      <td>DEFLTE</td>\n",
       "      <td>DEFLT</td>\n",
       "      <td>E</td>\n",
       "      <td>D</td>\n",
       "    </tr>\n",
       "  </tbody>\n",
       "</table>\n",
       "</div>"
      ],
      "text/plain": [
       "    fecha    hora  dur                                               numa  \\\n",
       "0  171010  193239    0  37a49038d6b3079a14a9876bade5c763be97bb0a028f57...   \n",
       "1  171010  195241    0  37a49038d6b3079a14a9876bade5c763be97bb0a028f57...   \n",
       "2  171010  201242    0  37a49038d6b3079a14a9876bade5c763be97bb0a028f57...   \n",
       "3  171010  203242    0  37a49038d6b3079a14a9876bade5c763be97bb0a028f57...   \n",
       "4  171010  205244    0  37a49038d6b3079a14a9876bade5c763be97bb0a028f57...   \n",
       "\n",
       "                                                numb     rin rinhead rintail  \\\n",
       "0  201d1ad4fde8bea379ee304ff6643cfabba99634569f67...  DEFLTE   DEFLT       E   \n",
       "1  201d1ad4fde8bea379ee304ff6643cfabba99634569f67...  DEFLTE   DEFLT       E   \n",
       "2  201d1ad4fde8bea379ee304ff6643cfabba99634569f67...  DEFLTE   DEFLT       E   \n",
       "3  201d1ad4fde8bea379ee304ff6643cfabba99634569f67...  DEFLTE   DEFLT       E   \n",
       "4  201d1ad4fde8bea379ee304ff6643cfabba99634569f67...  DEFLTE   DEFLT       E   \n",
       "\n",
       "  tipo  \n",
       "0    D  \n",
       "1    D  \n",
       "2    D  \n",
       "3    D  \n",
       "4    D  "
      ]
     },
     "execution_count": 21,
     "metadata": {},
     "output_type": "execute_result"
    }
   ],
   "source": [
    "usuarios = pd.concat(lista, ignore_index = True)\n",
    "usuarios.head()"
   ]
  },
  {
   "cell_type": "markdown",
   "id": "b3e09700",
   "metadata": {},
   "source": [
    "## Conteo de eventos para torres a 500 metros de la Línea 6 del Metro"
   ]
  },
  {
   "cell_type": "markdown",
   "id": "5ec84a04",
   "metadata": {},
   "source": [
    "### Se carga la información con las torres cercanas a menos de 500 metros"
   ]
  },
  {
   "cell_type": "code",
   "execution_count": 22,
   "id": "03a2d78d",
   "metadata": {},
   "outputs": [
    {
     "data": {
      "text/html": [
       "<div>\n",
       "<style scoped>\n",
       "    .dataframe tbody tr th:only-of-type {\n",
       "        vertical-align: middle;\n",
       "    }\n",
       "\n",
       "    .dataframe tbody tr th {\n",
       "        vertical-align: top;\n",
       "    }\n",
       "\n",
       "    .dataframe thead th {\n",
       "        text-align: right;\n",
       "    }\n",
       "</style>\n",
       "<table border=\"1\" class=\"dataframe\">\n",
       "  <thead>\n",
       "    <tr style=\"text-align: right;\">\n",
       "      <th></th>\n",
       "      <th>rinhead</th>\n",
       "      <th>geometry</th>\n",
       "      <th>NOM_COMUNA</th>\n",
       "    </tr>\n",
       "  </thead>\n",
       "  <tbody>\n",
       "    <tr>\n",
       "      <th>0</th>\n",
       "      <td>11SEP</td>\n",
       "      <td>POINT (-70.61111 -33.42227)</td>\n",
       "      <td>PROVIDENCIA</td>\n",
       "    </tr>\n",
       "    <tr>\n",
       "      <th>1</th>\n",
       "      <td>CAMCH</td>\n",
       "      <td>POINT (-70.60911 -33.41897)</td>\n",
       "      <td>PROVIDENCIA</td>\n",
       "    </tr>\n",
       "    <tr>\n",
       "      <th>2</th>\n",
       "      <td>CCA1A</td>\n",
       "      <td>POINT (-70.60588 -33.41796)</td>\n",
       "      <td>PROVIDENCIA</td>\n",
       "    </tr>\n",
       "    <tr>\n",
       "      <th>3</th>\n",
       "      <td>CCA1B</td>\n",
       "      <td>POINT (-70.60588 -33.41796)</td>\n",
       "      <td>PROVIDENCIA</td>\n",
       "    </tr>\n",
       "    <tr>\n",
       "      <th>4</th>\n",
       "      <td>CCA1C</td>\n",
       "      <td>POINT (-70.60588 -33.41796)</td>\n",
       "      <td>PROVIDENCIA</td>\n",
       "    </tr>\n",
       "  </tbody>\n",
       "</table>\n",
       "</div>"
      ],
      "text/plain": [
       "  rinhead                     geometry   NOM_COMUNA\n",
       "0   11SEP  POINT (-70.61111 -33.42227)  PROVIDENCIA\n",
       "1   CAMCH  POINT (-70.60911 -33.41897)  PROVIDENCIA\n",
       "2   CCA1A  POINT (-70.60588 -33.41796)  PROVIDENCIA\n",
       "3   CCA1B  POINT (-70.60588 -33.41796)  PROVIDENCIA\n",
       "4   CCA1C  POINT (-70.60588 -33.41796)  PROVIDENCIA"
      ]
     },
     "execution_count": 22,
     "metadata": {},
     "output_type": "execute_result"
    }
   ],
   "source": [
    "torres_500 = pd.read_csv('/home/jsepulveda/torres_cercanas_500.csv')\n",
    "torres_500['geometry'] = torres_500['geometry'].apply(wkt.loads)\n",
    "torres_500_gdf = gpd.GeoDataFrame(torres_500, crs='epsg:4326')\n",
    "torres_500_gdf.head()"
   ]
  },
  {
   "cell_type": "markdown",
   "id": "aa8f72b8",
   "metadata": {},
   "source": [
    "### Se intercectan los dataframes para contar las conexiones utilzando el nombre de la torre como intersección"
   ]
  },
  {
   "cell_type": "code",
   "execution_count": 23,
   "id": "50842965",
   "metadata": {},
   "outputs": [
    {
     "data": {
      "text/html": [
       "<div>\n",
       "<style scoped>\n",
       "    .dataframe tbody tr th:only-of-type {\n",
       "        vertical-align: middle;\n",
       "    }\n",
       "\n",
       "    .dataframe tbody tr th {\n",
       "        vertical-align: top;\n",
       "    }\n",
       "\n",
       "    .dataframe thead th {\n",
       "        text-align: right;\n",
       "    }\n",
       "</style>\n",
       "<table border=\"1\" class=\"dataframe\">\n",
       "  <thead>\n",
       "    <tr style=\"text-align: right;\">\n",
       "      <th></th>\n",
       "      <th>fecha</th>\n",
       "      <th>hora</th>\n",
       "      <th>dur</th>\n",
       "      <th>numa</th>\n",
       "      <th>numb</th>\n",
       "      <th>rin</th>\n",
       "      <th>rinhead</th>\n",
       "      <th>rintail</th>\n",
       "      <th>tipo</th>\n",
       "      <th>geometry</th>\n",
       "      <th>NOM_COMUNA</th>\n",
       "    </tr>\n",
       "  </thead>\n",
       "  <tbody>\n",
       "    <tr>\n",
       "      <th>0</th>\n",
       "      <td>171010</td>\n",
       "      <td>91316</td>\n",
       "      <td>422</td>\n",
       "      <td>44781ba848d16e65c5fd27547c134af49494b331510fd0...</td>\n",
       "      <td>201d1ad4fde8bea379ee304ff6643cfabba99634569f67...</td>\n",
       "      <td>DPTC2U3</td>\n",
       "      <td>DPTC2</td>\n",
       "      <td>U3</td>\n",
       "      <td>D</td>\n",
       "      <td>POINT (-70.65995 -33.47791)</td>\n",
       "      <td>PEDRO AGUIRRE CERDA</td>\n",
       "    </tr>\n",
       "    <tr>\n",
       "      <th>1</th>\n",
       "      <td>171010</td>\n",
       "      <td>91316</td>\n",
       "      <td>422</td>\n",
       "      <td>44781ba848d16e65c5fd27547c134af49494b331510fd0...</td>\n",
       "      <td>201d1ad4fde8bea379ee304ff6643cfabba99634569f67...</td>\n",
       "      <td>DPTC2U3</td>\n",
       "      <td>DPTC2</td>\n",
       "      <td>U3</td>\n",
       "      <td>D</td>\n",
       "      <td>POINT (-70.65995 -33.47791)</td>\n",
       "      <td>PEDRO AGUIRRE CERDA</td>\n",
       "    </tr>\n",
       "    <tr>\n",
       "      <th>2</th>\n",
       "      <td>171010</td>\n",
       "      <td>94316</td>\n",
       "      <td>371</td>\n",
       "      <td>44781ba848d16e65c5fd27547c134af49494b331510fd0...</td>\n",
       "      <td>201d1ad4fde8bea379ee304ff6643cfabba99634569f67...</td>\n",
       "      <td>DPTC2U9</td>\n",
       "      <td>DPTC2</td>\n",
       "      <td>U9</td>\n",
       "      <td>D</td>\n",
       "      <td>POINT (-70.65995 -33.47791)</td>\n",
       "      <td>PEDRO AGUIRRE CERDA</td>\n",
       "    </tr>\n",
       "    <tr>\n",
       "      <th>3</th>\n",
       "      <td>171010</td>\n",
       "      <td>94316</td>\n",
       "      <td>371</td>\n",
       "      <td>44781ba848d16e65c5fd27547c134af49494b331510fd0...</td>\n",
       "      <td>201d1ad4fde8bea379ee304ff6643cfabba99634569f67...</td>\n",
       "      <td>DPTC2U9</td>\n",
       "      <td>DPTC2</td>\n",
       "      <td>U9</td>\n",
       "      <td>D</td>\n",
       "      <td>POINT (-70.65995 -33.47791)</td>\n",
       "      <td>PEDRO AGUIRRE CERDA</td>\n",
       "    </tr>\n",
       "    <tr>\n",
       "      <th>4</th>\n",
       "      <td>171010</td>\n",
       "      <td>101316</td>\n",
       "      <td>275</td>\n",
       "      <td>44781ba848d16e65c5fd27547c134af49494b331510fd0...</td>\n",
       "      <td>201d1ad4fde8bea379ee304ff6643cfabba99634569f67...</td>\n",
       "      <td>DPTC2U3</td>\n",
       "      <td>DPTC2</td>\n",
       "      <td>U3</td>\n",
       "      <td>D</td>\n",
       "      <td>POINT (-70.65995 -33.47791)</td>\n",
       "      <td>PEDRO AGUIRRE CERDA</td>\n",
       "    </tr>\n",
       "  </tbody>\n",
       "</table>\n",
       "</div>"
      ],
      "text/plain": [
       "    fecha    hora  dur                                               numa  \\\n",
       "0  171010   91316  422  44781ba848d16e65c5fd27547c134af49494b331510fd0...   \n",
       "1  171010   91316  422  44781ba848d16e65c5fd27547c134af49494b331510fd0...   \n",
       "2  171010   94316  371  44781ba848d16e65c5fd27547c134af49494b331510fd0...   \n",
       "3  171010   94316  371  44781ba848d16e65c5fd27547c134af49494b331510fd0...   \n",
       "4  171010  101316  275  44781ba848d16e65c5fd27547c134af49494b331510fd0...   \n",
       "\n",
       "                                                numb      rin rinhead rintail  \\\n",
       "0  201d1ad4fde8bea379ee304ff6643cfabba99634569f67...  DPTC2U3   DPTC2      U3   \n",
       "1  201d1ad4fde8bea379ee304ff6643cfabba99634569f67...  DPTC2U3   DPTC2      U3   \n",
       "2  201d1ad4fde8bea379ee304ff6643cfabba99634569f67...  DPTC2U9   DPTC2      U9   \n",
       "3  201d1ad4fde8bea379ee304ff6643cfabba99634569f67...  DPTC2U9   DPTC2      U9   \n",
       "4  201d1ad4fde8bea379ee304ff6643cfabba99634569f67...  DPTC2U3   DPTC2      U3   \n",
       "\n",
       "  tipo                     geometry           NOM_COMUNA  \n",
       "0    D  POINT (-70.65995 -33.47791)  PEDRO AGUIRRE CERDA  \n",
       "1    D  POINT (-70.65995 -33.47791)  PEDRO AGUIRRE CERDA  \n",
       "2    D  POINT (-70.65995 -33.47791)  PEDRO AGUIRRE CERDA  \n",
       "3    D  POINT (-70.65995 -33.47791)  PEDRO AGUIRRE CERDA  \n",
       "4    D  POINT (-70.65995 -33.47791)  PEDRO AGUIRRE CERDA  "
      ]
     },
     "execution_count": 23,
     "metadata": {},
     "output_type": "execute_result"
    }
   ],
   "source": [
    "data = usuarios.merge(torres_500_gdf, how = 'inner', on = 'rinhead')\n",
    "data.head()"
   ]
  },
  {
   "cell_type": "markdown",
   "id": "d9b8ffc1",
   "metadata": {},
   "source": [
    "### Se realiza el conteo de los dispositivos que se conectaron a estas torres"
   ]
  },
  {
   "cell_type": "code",
   "execution_count": 24,
   "id": "632f0d8f",
   "metadata": {},
   "outputs": [
    {
     "data": {
      "text/html": [
       "<div>\n",
       "<style scoped>\n",
       "    .dataframe tbody tr th:only-of-type {\n",
       "        vertical-align: middle;\n",
       "    }\n",
       "\n",
       "    .dataframe tbody tr th {\n",
       "        vertical-align: top;\n",
       "    }\n",
       "\n",
       "    .dataframe thead th {\n",
       "        text-align: right;\n",
       "    }\n",
       "</style>\n",
       "<table border=\"1\" class=\"dataframe\">\n",
       "  <thead>\n",
       "    <tr style=\"text-align: right;\">\n",
       "      <th></th>\n",
       "      <th>rinhead</th>\n",
       "      <th>numa</th>\n",
       "    </tr>\n",
       "  </thead>\n",
       "  <tbody>\n",
       "    <tr>\n",
       "      <th>0</th>\n",
       "      <td>11SEP</td>\n",
       "      <td>4748</td>\n",
       "    </tr>\n",
       "    <tr>\n",
       "      <th>1</th>\n",
       "      <td>AALIR</td>\n",
       "      <td>40</td>\n",
       "    </tr>\n",
       "    <tr>\n",
       "      <th>2</th>\n",
       "      <td>AGSTF</td>\n",
       "      <td>2468</td>\n",
       "    </tr>\n",
       "    <tr>\n",
       "      <th>3</th>\n",
       "      <td>AHMF2</td>\n",
       "      <td>9555</td>\n",
       "    </tr>\n",
       "    <tr>\n",
       "      <th>4</th>\n",
       "      <td>BAHF2</td>\n",
       "      <td>4677</td>\n",
       "    </tr>\n",
       "  </tbody>\n",
       "</table>\n",
       "</div>"
      ],
      "text/plain": [
       "  rinhead  numa\n",
       "0   11SEP  4748\n",
       "1   AALIR    40\n",
       "2   AGSTF  2468\n",
       "3   AHMF2  9555\n",
       "4   BAHF2  4677"
      ]
     },
     "execution_count": 24,
     "metadata": {},
     "output_type": "execute_result"
    }
   ],
   "source": [
    "usuarios_por_torre = data.groupby(['rinhead']).agg({'numa':'nunique'}).reset_index()\n",
    "usuarios_por_torre.head()"
   ]
  },
  {
   "cell_type": "markdown",
   "id": "784e220a",
   "metadata": {},
   "source": [
    "## Conteo de eventos para torres a 1000 metros de la Línea 6 del Metro"
   ]
  },
  {
   "cell_type": "markdown",
   "id": "99db86fe",
   "metadata": {},
   "source": [
    "### Se carga la información con las torres cercanas a menos de 1000 metros"
   ]
  },
  {
   "cell_type": "code",
   "execution_count": 25,
   "id": "01c31a7f",
   "metadata": {},
   "outputs": [
    {
     "data": {
      "text/html": [
       "<div>\n",
       "<style scoped>\n",
       "    .dataframe tbody tr th:only-of-type {\n",
       "        vertical-align: middle;\n",
       "    }\n",
       "\n",
       "    .dataframe tbody tr th {\n",
       "        vertical-align: top;\n",
       "    }\n",
       "\n",
       "    .dataframe thead th {\n",
       "        text-align: right;\n",
       "    }\n",
       "</style>\n",
       "<table border=\"1\" class=\"dataframe\">\n",
       "  <thead>\n",
       "    <tr style=\"text-align: right;\">\n",
       "      <th></th>\n",
       "      <th>rinhead</th>\n",
       "      <th>geometry</th>\n",
       "      <th>NOM_COMUNA</th>\n",
       "    </tr>\n",
       "  </thead>\n",
       "  <tbody>\n",
       "    <tr>\n",
       "      <th>0</th>\n",
       "      <td>11SEP</td>\n",
       "      <td>POINT (-70.61111 -33.42227)</td>\n",
       "      <td>PROVIDENCIA</td>\n",
       "    </tr>\n",
       "    <tr>\n",
       "      <th>1</th>\n",
       "      <td>ATICF</td>\n",
       "      <td>POINT (-70.60563 -33.42468)</td>\n",
       "      <td>PROVIDENCIA</td>\n",
       "    </tr>\n",
       "    <tr>\n",
       "      <th>2</th>\n",
       "      <td>BARRO</td>\n",
       "      <td>POINT (-70.61785 -33.43059)</td>\n",
       "      <td>PROVIDENCIA</td>\n",
       "    </tr>\n",
       "    <tr>\n",
       "      <th>3</th>\n",
       "      <td>BELET</td>\n",
       "      <td>POINT (-70.61900 -33.42553)</td>\n",
       "      <td>PROVIDENCIA</td>\n",
       "    </tr>\n",
       "    <tr>\n",
       "      <th>4</th>\n",
       "      <td>CAMCH</td>\n",
       "      <td>POINT (-70.60911 -33.41897)</td>\n",
       "      <td>PROVIDENCIA</td>\n",
       "    </tr>\n",
       "  </tbody>\n",
       "</table>\n",
       "</div>"
      ],
      "text/plain": [
       "  rinhead                     geometry   NOM_COMUNA\n",
       "0   11SEP  POINT (-70.61111 -33.42227)  PROVIDENCIA\n",
       "1   ATICF  POINT (-70.60563 -33.42468)  PROVIDENCIA\n",
       "2   BARRO  POINT (-70.61785 -33.43059)  PROVIDENCIA\n",
       "3   BELET  POINT (-70.61900 -33.42553)  PROVIDENCIA\n",
       "4   CAMCH  POINT (-70.60911 -33.41897)  PROVIDENCIA"
      ]
     },
     "execution_count": 25,
     "metadata": {},
     "output_type": "execute_result"
    }
   ],
   "source": [
    "torres_1000 = pd.read_csv('/home/jsepulveda/torres_cercanas_1000.csv')\n",
    "torres_1000['geometry'] = torres_1000['geometry'].apply(wkt.loads)\n",
    "torres_1000_gdf = gpd.GeoDataFrame(torres_1000, crs='epsg:4326')\n",
    "torres_1000_gdf.head()"
   ]
  },
  {
   "cell_type": "markdown",
   "id": "f40f52e8",
   "metadata": {},
   "source": [
    "### Se intercectan los dataframes para contar las conexiones utilzando el nombre de la torre como intersección"
   ]
  },
  {
   "cell_type": "code",
   "execution_count": 26,
   "id": "56376636",
   "metadata": {},
   "outputs": [
    {
     "data": {
      "text/html": [
       "<div>\n",
       "<style scoped>\n",
       "    .dataframe tbody tr th:only-of-type {\n",
       "        vertical-align: middle;\n",
       "    }\n",
       "\n",
       "    .dataframe tbody tr th {\n",
       "        vertical-align: top;\n",
       "    }\n",
       "\n",
       "    .dataframe thead th {\n",
       "        text-align: right;\n",
       "    }\n",
       "</style>\n",
       "<table border=\"1\" class=\"dataframe\">\n",
       "  <thead>\n",
       "    <tr style=\"text-align: right;\">\n",
       "      <th></th>\n",
       "      <th>fecha</th>\n",
       "      <th>hora</th>\n",
       "      <th>dur</th>\n",
       "      <th>numa</th>\n",
       "      <th>numb</th>\n",
       "      <th>rin</th>\n",
       "      <th>rinhead</th>\n",
       "      <th>rintail</th>\n",
       "      <th>tipo</th>\n",
       "      <th>geometry</th>\n",
       "      <th>NOM_COMUNA</th>\n",
       "    </tr>\n",
       "  </thead>\n",
       "  <tbody>\n",
       "    <tr>\n",
       "      <th>0</th>\n",
       "      <td>171010</td>\n",
       "      <td>91316</td>\n",
       "      <td>422</td>\n",
       "      <td>44781ba848d16e65c5fd27547c134af49494b331510fd0...</td>\n",
       "      <td>201d1ad4fde8bea379ee304ff6643cfabba99634569f67...</td>\n",
       "      <td>DPTC2U3</td>\n",
       "      <td>DPTC2</td>\n",
       "      <td>U3</td>\n",
       "      <td>D</td>\n",
       "      <td>POINT (-70.65995 -33.47791)</td>\n",
       "      <td>PEDRO AGUIRRE CERDA</td>\n",
       "    </tr>\n",
       "    <tr>\n",
       "      <th>1</th>\n",
       "      <td>171010</td>\n",
       "      <td>91316</td>\n",
       "      <td>422</td>\n",
       "      <td>44781ba848d16e65c5fd27547c134af49494b331510fd0...</td>\n",
       "      <td>201d1ad4fde8bea379ee304ff6643cfabba99634569f67...</td>\n",
       "      <td>DPTC2U3</td>\n",
       "      <td>DPTC2</td>\n",
       "      <td>U3</td>\n",
       "      <td>D</td>\n",
       "      <td>POINT (-70.65995 -33.47791)</td>\n",
       "      <td>PEDRO AGUIRRE CERDA</td>\n",
       "    </tr>\n",
       "    <tr>\n",
       "      <th>2</th>\n",
       "      <td>171010</td>\n",
       "      <td>94316</td>\n",
       "      <td>371</td>\n",
       "      <td>44781ba848d16e65c5fd27547c134af49494b331510fd0...</td>\n",
       "      <td>201d1ad4fde8bea379ee304ff6643cfabba99634569f67...</td>\n",
       "      <td>DPTC2U9</td>\n",
       "      <td>DPTC2</td>\n",
       "      <td>U9</td>\n",
       "      <td>D</td>\n",
       "      <td>POINT (-70.65995 -33.47791)</td>\n",
       "      <td>PEDRO AGUIRRE CERDA</td>\n",
       "    </tr>\n",
       "    <tr>\n",
       "      <th>3</th>\n",
       "      <td>171010</td>\n",
       "      <td>94316</td>\n",
       "      <td>371</td>\n",
       "      <td>44781ba848d16e65c5fd27547c134af49494b331510fd0...</td>\n",
       "      <td>201d1ad4fde8bea379ee304ff6643cfabba99634569f67...</td>\n",
       "      <td>DPTC2U9</td>\n",
       "      <td>DPTC2</td>\n",
       "      <td>U9</td>\n",
       "      <td>D</td>\n",
       "      <td>POINT (-70.65995 -33.47791)</td>\n",
       "      <td>PEDRO AGUIRRE CERDA</td>\n",
       "    </tr>\n",
       "    <tr>\n",
       "      <th>4</th>\n",
       "      <td>171010</td>\n",
       "      <td>101316</td>\n",
       "      <td>275</td>\n",
       "      <td>44781ba848d16e65c5fd27547c134af49494b331510fd0...</td>\n",
       "      <td>201d1ad4fde8bea379ee304ff6643cfabba99634569f67...</td>\n",
       "      <td>DPTC2U3</td>\n",
       "      <td>DPTC2</td>\n",
       "      <td>U3</td>\n",
       "      <td>D</td>\n",
       "      <td>POINT (-70.65995 -33.47791)</td>\n",
       "      <td>PEDRO AGUIRRE CERDA</td>\n",
       "    </tr>\n",
       "  </tbody>\n",
       "</table>\n",
       "</div>"
      ],
      "text/plain": [
       "    fecha    hora  dur                                               numa  \\\n",
       "0  171010   91316  422  44781ba848d16e65c5fd27547c134af49494b331510fd0...   \n",
       "1  171010   91316  422  44781ba848d16e65c5fd27547c134af49494b331510fd0...   \n",
       "2  171010   94316  371  44781ba848d16e65c5fd27547c134af49494b331510fd0...   \n",
       "3  171010   94316  371  44781ba848d16e65c5fd27547c134af49494b331510fd0...   \n",
       "4  171010  101316  275  44781ba848d16e65c5fd27547c134af49494b331510fd0...   \n",
       "\n",
       "                                                numb      rin rinhead rintail  \\\n",
       "0  201d1ad4fde8bea379ee304ff6643cfabba99634569f67...  DPTC2U3   DPTC2      U3   \n",
       "1  201d1ad4fde8bea379ee304ff6643cfabba99634569f67...  DPTC2U3   DPTC2      U3   \n",
       "2  201d1ad4fde8bea379ee304ff6643cfabba99634569f67...  DPTC2U9   DPTC2      U9   \n",
       "3  201d1ad4fde8bea379ee304ff6643cfabba99634569f67...  DPTC2U9   DPTC2      U9   \n",
       "4  201d1ad4fde8bea379ee304ff6643cfabba99634569f67...  DPTC2U3   DPTC2      U3   \n",
       "\n",
       "  tipo                     geometry           NOM_COMUNA  \n",
       "0    D  POINT (-70.65995 -33.47791)  PEDRO AGUIRRE CERDA  \n",
       "1    D  POINT (-70.65995 -33.47791)  PEDRO AGUIRRE CERDA  \n",
       "2    D  POINT (-70.65995 -33.47791)  PEDRO AGUIRRE CERDA  \n",
       "3    D  POINT (-70.65995 -33.47791)  PEDRO AGUIRRE CERDA  \n",
       "4    D  POINT (-70.65995 -33.47791)  PEDRO AGUIRRE CERDA  "
      ]
     },
     "execution_count": 26,
     "metadata": {},
     "output_type": "execute_result"
    }
   ],
   "source": [
    "data = usuarios.merge(torres_1000_gdf, how = 'inner', on = 'rinhead')\n",
    "data.head()"
   ]
  },
  {
   "cell_type": "markdown",
   "id": "c2a5f1a7",
   "metadata": {},
   "source": [
    "### Se realiza el conteo de los dispositivos que se conectaron a estas torres"
   ]
  },
  {
   "cell_type": "code",
   "execution_count": 27,
   "id": "23f95c0e",
   "metadata": {},
   "outputs": [
    {
     "data": {
      "text/html": [
       "<div>\n",
       "<style scoped>\n",
       "    .dataframe tbody tr th:only-of-type {\n",
       "        vertical-align: middle;\n",
       "    }\n",
       "\n",
       "    .dataframe tbody tr th {\n",
       "        vertical-align: top;\n",
       "    }\n",
       "\n",
       "    .dataframe thead th {\n",
       "        text-align: right;\n",
       "    }\n",
       "</style>\n",
       "<table border=\"1\" class=\"dataframe\">\n",
       "  <thead>\n",
       "    <tr style=\"text-align: right;\">\n",
       "      <th></th>\n",
       "      <th>rinhead</th>\n",
       "      <th>numa</th>\n",
       "    </tr>\n",
       "  </thead>\n",
       "  <tbody>\n",
       "    <tr>\n",
       "      <th>0</th>\n",
       "      <td>11SEP</td>\n",
       "      <td>4748</td>\n",
       "    </tr>\n",
       "    <tr>\n",
       "      <th>1</th>\n",
       "      <td>AALIR</td>\n",
       "      <td>40</td>\n",
       "    </tr>\n",
       "    <tr>\n",
       "      <th>2</th>\n",
       "      <td>AGSTF</td>\n",
       "      <td>2468</td>\n",
       "    </tr>\n",
       "    <tr>\n",
       "      <th>3</th>\n",
       "      <td>AHMF2</td>\n",
       "      <td>9555</td>\n",
       "    </tr>\n",
       "    <tr>\n",
       "      <th>4</th>\n",
       "      <td>AJINE</td>\n",
       "      <td>7381</td>\n",
       "    </tr>\n",
       "  </tbody>\n",
       "</table>\n",
       "</div>"
      ],
      "text/plain": [
       "  rinhead  numa\n",
       "0   11SEP  4748\n",
       "1   AALIR    40\n",
       "2   AGSTF  2468\n",
       "3   AHMF2  9555\n",
       "4   AJINE  7381"
      ]
     },
     "execution_count": 27,
     "metadata": {},
     "output_type": "execute_result"
    }
   ],
   "source": [
    "usuarios_por_torre = data.groupby(['rinhead']).agg({'numa':'nunique'}).reset_index()\n",
    "usuarios_por_torre.head()"
   ]
  },
  {
   "cell_type": "markdown",
   "id": "92129787",
   "metadata": {},
   "source": [
    "## Conteo de eventos para torres a 1500 metros de la Línea 6 del Metro\n"
   ]
  },
  {
   "cell_type": "markdown",
   "id": "53fcbc7d",
   "metadata": {},
   "source": [
    "### Se carga la información con las torres cercanas a menos de 1500 metros"
   ]
  },
  {
   "cell_type": "code",
   "execution_count": 28,
   "id": "b359c634",
   "metadata": {},
   "outputs": [
    {
     "data": {
      "text/html": [
       "<div>\n",
       "<style scoped>\n",
       "    .dataframe tbody tr th:only-of-type {\n",
       "        vertical-align: middle;\n",
       "    }\n",
       "\n",
       "    .dataframe tbody tr th {\n",
       "        vertical-align: top;\n",
       "    }\n",
       "\n",
       "    .dataframe thead th {\n",
       "        text-align: right;\n",
       "    }\n",
       "</style>\n",
       "<table border=\"1\" class=\"dataframe\">\n",
       "  <thead>\n",
       "    <tr style=\"text-align: right;\">\n",
       "      <th></th>\n",
       "      <th>rinhead</th>\n",
       "      <th>geometry</th>\n",
       "      <th>NOM_COMUNA</th>\n",
       "    </tr>\n",
       "  </thead>\n",
       "  <tbody>\n",
       "    <tr>\n",
       "      <th>0</th>\n",
       "      <td>11SEP</td>\n",
       "      <td>POINT (-70.61111 -33.42227)</td>\n",
       "      <td>PROVIDENCIA</td>\n",
       "    </tr>\n",
       "    <tr>\n",
       "      <th>1</th>\n",
       "      <td>ATICF</td>\n",
       "      <td>POINT (-70.60563 -33.42468)</td>\n",
       "      <td>PROVIDENCIA</td>\n",
       "    </tr>\n",
       "    <tr>\n",
       "      <th>2</th>\n",
       "      <td>BARRO</td>\n",
       "      <td>POINT (-70.61785 -33.43059)</td>\n",
       "      <td>PROVIDENCIA</td>\n",
       "    </tr>\n",
       "    <tr>\n",
       "      <th>3</th>\n",
       "      <td>BELET</td>\n",
       "      <td>POINT (-70.61900 -33.42553)</td>\n",
       "      <td>PROVIDENCIA</td>\n",
       "    </tr>\n",
       "    <tr>\n",
       "      <th>4</th>\n",
       "      <td>BUSIS</td>\n",
       "      <td>POINT (-70.62233 -33.42679)</td>\n",
       "      <td>PROVIDENCIA</td>\n",
       "    </tr>\n",
       "  </tbody>\n",
       "</table>\n",
       "</div>"
      ],
      "text/plain": [
       "  rinhead                     geometry   NOM_COMUNA\n",
       "0   11SEP  POINT (-70.61111 -33.42227)  PROVIDENCIA\n",
       "1   ATICF  POINT (-70.60563 -33.42468)  PROVIDENCIA\n",
       "2   BARRO  POINT (-70.61785 -33.43059)  PROVIDENCIA\n",
       "3   BELET  POINT (-70.61900 -33.42553)  PROVIDENCIA\n",
       "4   BUSIS  POINT (-70.62233 -33.42679)  PROVIDENCIA"
      ]
     },
     "execution_count": 28,
     "metadata": {},
     "output_type": "execute_result"
    }
   ],
   "source": [
    "torres_1500 = pd.read_csv('/home/jsepulveda/torres_cercanas_1500.csv')\n",
    "torres_1500['geometry'] = torres_1500['geometry'].apply(wkt.loads)\n",
    "torres_1500_gdf = gpd.GeoDataFrame(torres_1500, crs='epsg:4326')\n",
    "torres_1500_gdf.head()"
   ]
  },
  {
   "cell_type": "markdown",
   "id": "bf5c3a42",
   "metadata": {},
   "source": [
    "### Se intercectan los dataframes para contar las conexiones utilzando el nombre de la torre como intersección"
   ]
  },
  {
   "cell_type": "code",
   "execution_count": 29,
   "id": "3b46da48",
   "metadata": {},
   "outputs": [
    {
     "data": {
      "text/html": [
       "<div>\n",
       "<style scoped>\n",
       "    .dataframe tbody tr th:only-of-type {\n",
       "        vertical-align: middle;\n",
       "    }\n",
       "\n",
       "    .dataframe tbody tr th {\n",
       "        vertical-align: top;\n",
       "    }\n",
       "\n",
       "    .dataframe thead th {\n",
       "        text-align: right;\n",
       "    }\n",
       "</style>\n",
       "<table border=\"1\" class=\"dataframe\">\n",
       "  <thead>\n",
       "    <tr style=\"text-align: right;\">\n",
       "      <th></th>\n",
       "      <th>fecha</th>\n",
       "      <th>hora</th>\n",
       "      <th>dur</th>\n",
       "      <th>numa</th>\n",
       "      <th>numb</th>\n",
       "      <th>rin</th>\n",
       "      <th>rinhead</th>\n",
       "      <th>rintail</th>\n",
       "      <th>tipo</th>\n",
       "      <th>geometry</th>\n",
       "      <th>NOM_COMUNA</th>\n",
       "    </tr>\n",
       "  </thead>\n",
       "  <tbody>\n",
       "    <tr>\n",
       "      <th>0</th>\n",
       "      <td>171010</td>\n",
       "      <td>91316</td>\n",
       "      <td>422</td>\n",
       "      <td>44781ba848d16e65c5fd27547c134af49494b331510fd0...</td>\n",
       "      <td>201d1ad4fde8bea379ee304ff6643cfabba99634569f67...</td>\n",
       "      <td>DPTC2U3</td>\n",
       "      <td>DPTC2</td>\n",
       "      <td>U3</td>\n",
       "      <td>D</td>\n",
       "      <td>POINT (-70.65995 -33.47791)</td>\n",
       "      <td>PEDRO AGUIRRE CERDA</td>\n",
       "    </tr>\n",
       "    <tr>\n",
       "      <th>1</th>\n",
       "      <td>171010</td>\n",
       "      <td>91316</td>\n",
       "      <td>422</td>\n",
       "      <td>44781ba848d16e65c5fd27547c134af49494b331510fd0...</td>\n",
       "      <td>201d1ad4fde8bea379ee304ff6643cfabba99634569f67...</td>\n",
       "      <td>DPTC2U3</td>\n",
       "      <td>DPTC2</td>\n",
       "      <td>U3</td>\n",
       "      <td>D</td>\n",
       "      <td>POINT (-70.65995 -33.47791)</td>\n",
       "      <td>PEDRO AGUIRRE CERDA</td>\n",
       "    </tr>\n",
       "    <tr>\n",
       "      <th>2</th>\n",
       "      <td>171010</td>\n",
       "      <td>94316</td>\n",
       "      <td>371</td>\n",
       "      <td>44781ba848d16e65c5fd27547c134af49494b331510fd0...</td>\n",
       "      <td>201d1ad4fde8bea379ee304ff6643cfabba99634569f67...</td>\n",
       "      <td>DPTC2U9</td>\n",
       "      <td>DPTC2</td>\n",
       "      <td>U9</td>\n",
       "      <td>D</td>\n",
       "      <td>POINT (-70.65995 -33.47791)</td>\n",
       "      <td>PEDRO AGUIRRE CERDA</td>\n",
       "    </tr>\n",
       "    <tr>\n",
       "      <th>3</th>\n",
       "      <td>171010</td>\n",
       "      <td>94316</td>\n",
       "      <td>371</td>\n",
       "      <td>44781ba848d16e65c5fd27547c134af49494b331510fd0...</td>\n",
       "      <td>201d1ad4fde8bea379ee304ff6643cfabba99634569f67...</td>\n",
       "      <td>DPTC2U9</td>\n",
       "      <td>DPTC2</td>\n",
       "      <td>U9</td>\n",
       "      <td>D</td>\n",
       "      <td>POINT (-70.65995 -33.47791)</td>\n",
       "      <td>PEDRO AGUIRRE CERDA</td>\n",
       "    </tr>\n",
       "    <tr>\n",
       "      <th>4</th>\n",
       "      <td>171010</td>\n",
       "      <td>101316</td>\n",
       "      <td>275</td>\n",
       "      <td>44781ba848d16e65c5fd27547c134af49494b331510fd0...</td>\n",
       "      <td>201d1ad4fde8bea379ee304ff6643cfabba99634569f67...</td>\n",
       "      <td>DPTC2U3</td>\n",
       "      <td>DPTC2</td>\n",
       "      <td>U3</td>\n",
       "      <td>D</td>\n",
       "      <td>POINT (-70.65995 -33.47791)</td>\n",
       "      <td>PEDRO AGUIRRE CERDA</td>\n",
       "    </tr>\n",
       "  </tbody>\n",
       "</table>\n",
       "</div>"
      ],
      "text/plain": [
       "    fecha    hora  dur                                               numa  \\\n",
       "0  171010   91316  422  44781ba848d16e65c5fd27547c134af49494b331510fd0...   \n",
       "1  171010   91316  422  44781ba848d16e65c5fd27547c134af49494b331510fd0...   \n",
       "2  171010   94316  371  44781ba848d16e65c5fd27547c134af49494b331510fd0...   \n",
       "3  171010   94316  371  44781ba848d16e65c5fd27547c134af49494b331510fd0...   \n",
       "4  171010  101316  275  44781ba848d16e65c5fd27547c134af49494b331510fd0...   \n",
       "\n",
       "                                                numb      rin rinhead rintail  \\\n",
       "0  201d1ad4fde8bea379ee304ff6643cfabba99634569f67...  DPTC2U3   DPTC2      U3   \n",
       "1  201d1ad4fde8bea379ee304ff6643cfabba99634569f67...  DPTC2U3   DPTC2      U3   \n",
       "2  201d1ad4fde8bea379ee304ff6643cfabba99634569f67...  DPTC2U9   DPTC2      U9   \n",
       "3  201d1ad4fde8bea379ee304ff6643cfabba99634569f67...  DPTC2U9   DPTC2      U9   \n",
       "4  201d1ad4fde8bea379ee304ff6643cfabba99634569f67...  DPTC2U3   DPTC2      U3   \n",
       "\n",
       "  tipo                     geometry           NOM_COMUNA  \n",
       "0    D  POINT (-70.65995 -33.47791)  PEDRO AGUIRRE CERDA  \n",
       "1    D  POINT (-70.65995 -33.47791)  PEDRO AGUIRRE CERDA  \n",
       "2    D  POINT (-70.65995 -33.47791)  PEDRO AGUIRRE CERDA  \n",
       "3    D  POINT (-70.65995 -33.47791)  PEDRO AGUIRRE CERDA  \n",
       "4    D  POINT (-70.65995 -33.47791)  PEDRO AGUIRRE CERDA  "
      ]
     },
     "execution_count": 29,
     "metadata": {},
     "output_type": "execute_result"
    }
   ],
   "source": [
    "data = usuarios.merge(torres_1500_gdf, how = 'inner', on = 'rinhead')\n",
    "data.head()"
   ]
  },
  {
   "cell_type": "markdown",
   "id": "3c82cf31",
   "metadata": {},
   "source": [
    "### Se realiza el conteo de los dispositivos que se conectaron a estas torres"
   ]
  },
  {
   "cell_type": "code",
   "execution_count": 30,
   "id": "ec668e4e",
   "metadata": {},
   "outputs": [
    {
     "data": {
      "text/html": [
       "<div>\n",
       "<style scoped>\n",
       "    .dataframe tbody tr th:only-of-type {\n",
       "        vertical-align: middle;\n",
       "    }\n",
       "\n",
       "    .dataframe tbody tr th {\n",
       "        vertical-align: top;\n",
       "    }\n",
       "\n",
       "    .dataframe thead th {\n",
       "        text-align: right;\n",
       "    }\n",
       "</style>\n",
       "<table border=\"1\" class=\"dataframe\">\n",
       "  <thead>\n",
       "    <tr style=\"text-align: right;\">\n",
       "      <th></th>\n",
       "      <th>rinhead</th>\n",
       "      <th>numa</th>\n",
       "    </tr>\n",
       "  </thead>\n",
       "  <tbody>\n",
       "    <tr>\n",
       "      <th>0</th>\n",
       "      <td>11SEP</td>\n",
       "      <td>4748</td>\n",
       "    </tr>\n",
       "    <tr>\n",
       "      <th>1</th>\n",
       "      <td>AALIR</td>\n",
       "      <td>40</td>\n",
       "    </tr>\n",
       "    <tr>\n",
       "      <th>2</th>\n",
       "      <td>AAMAC</td>\n",
       "      <td>49</td>\n",
       "    </tr>\n",
       "    <tr>\n",
       "      <th>3</th>\n",
       "      <td>AGSTF</td>\n",
       "      <td>2468</td>\n",
       "    </tr>\n",
       "    <tr>\n",
       "      <th>4</th>\n",
       "      <td>AGUAF</td>\n",
       "      <td>9489</td>\n",
       "    </tr>\n",
       "  </tbody>\n",
       "</table>\n",
       "</div>"
      ],
      "text/plain": [
       "  rinhead  numa\n",
       "0   11SEP  4748\n",
       "1   AALIR    40\n",
       "2   AAMAC    49\n",
       "3   AGSTF  2468\n",
       "4   AGUAF  9489"
      ]
     },
     "execution_count": 30,
     "metadata": {},
     "output_type": "execute_result"
    }
   ],
   "source": [
    "usuarios_por_torre = data.groupby(['rinhead']).agg({'numa':'nunique'}).reset_index()\n",
    "usuarios_por_torre.head()"
   ]
  },
  {
   "cell_type": "markdown",
   "id": "e66d8f4f",
   "metadata": {},
   "source": [
    "# ##################################################################"
   ]
  },
  {
   "cell_type": "markdown",
   "id": "b4f4a1dd",
   "metadata": {},
   "source": [
    "### Definiendo las densidades de POIS mediante KDE"
   ]
  },
  {
   "cell_type": "code",
   "execution_count": 2,
   "id": "e9e2d119",
   "metadata": {},
   "outputs": [
    {
     "data": {
      "image/png": "[encoded data removed]",
      "text/plain": [
       "<Figure size 1008x216 with 3 Axes>"
      ]
     },
     "metadata": {
      "needs_background": "light"
     },
     "output_type": "display_data"
    }
   ],
   "source": [
    "from KDEpy import TreeKDE\n",
    "import numpy as np\n",
    "np.random.seed(123)\n",
    "data = [1, 2, 4, 8, 16]\n",
    "\n",
    "# Plot the points\n",
    "plt.figure(figsize=(14, 3)); plt.subplot(1, 3, 1)\n",
    "plt.title('Data points')\n",
    "plt.scatter(data, np.zeros_like(data), marker='|', c='r', label='Data')\n",
    "\n",
    "# Plot a kernel on each data point\n",
    "plt.subplot(1, 3, 2); plt.title('Data points with kernel functions')\n",
    "plt.scatter(data, np.zeros_like(data), marker='|', c='r', label='Data')\n",
    "for d in data:\n",
    "    x, y = TreeKDE(kernel='box').fit([d])()\n",
    "    plt.plot(x, y, color='#1f77b4')\n",
    "\n",
    "# Plot a normalized kernel on each data point, and the sum\n",
    "plt.subplot(1, 3, 3); plt.title('Data points with kernel functions summed')\n",
    "plt.scatter(data, np.zeros_like(data), marker='|', c='r', label='Data')\n",
    "for d in data:\n",
    "    x, y = TreeKDE(kernel='box').fit([d])()\n",
    "    plt.plot(x, y / len(data), color='#1f77b4')\n",
    "x, y = TreeKDE(kernel='box').fit(data)()\n",
    "plt.plot(x, y, color='#ff7f0e');"
   ]
  },
  {
   "cell_type": "code",
   "execution_count": 3,
   "id": "31996549",
   "metadata": {},
   "outputs": [],
   "source": [
    "recreacion_pois = pd.read_csv('/home/jsepulveda/files/recreacion_pois.csv')\n",
    "recreacion_pois['geometry'] = recreacion_pois['geometry'].apply(wkt.loads)\n",
    "recreacion_gdf = gpd.GeoDataFrame(recreacion_pois, crs='epsg:4326')\n",
    "coord_list_r = [(x,y) for x,y in zip(recreacion_gdf['geometry'].x, recreacion_gdf['geometry'].y)]"
   ]
  },
  {
   "cell_type": "code",
   "execution_count": 4,
   "id": "081c0a98",
   "metadata": {},
   "outputs": [],
   "source": [
    "educacion_pois = pd.read_csv('/home/jsepulveda/files/educacion_pois.csv')\n",
    "educacion_pois['geometry'] = educacion_pois['geometry'].apply(wkt.loads)\n",
    "educacion_gdf = gpd.GeoDataFrame(educacion_pois, crs='epsg:4326')\n",
    "coord_list_e = [[x,y] for x,y in zip(educacion_gdf['geometry'].x, educacion_gdf['geometry'].y)]"
   ]
  },
  {
   "cell_type": "code",
   "execution_count": 105,
   "id": "6cc32987",
   "metadata": {},
   "outputs": [
    {
     "name": "stderr",
     "output_type": "stream",
     "text": [
      "Locator attempting to generate 4168 ticks ([0.0, ..., 0.16668000000000002]), which exceeds Locator.MAXTICKS (1000).\n",
      "Locator attempting to generate 4168 ticks ([0.0, ..., 0.16668000000000002]), which exceeds Locator.MAXTICKS (1000).\n",
      "Locator attempting to generate 4246 ticks ([0.0, ..., 0.10612500000000001]), which exceeds Locator.MAXTICKS (1000).\n",
      "Locator attempting to generate 4246 ticks ([0.0, ..., 0.10612500000000001]), which exceeds Locator.MAXTICKS (1000).\n",
      "Locator attempting to generate 4168 ticks ([0.0, ..., 0.08334000000000001]), which exceeds Locator.MAXTICKS (1000).\n",
      "Locator attempting to generate 4168 ticks ([0.0, ..., 0.08334000000000001]), which exceeds Locator.MAXTICKS (1000).\n"
     ]
    },
    {
     "data": {
      "image/png": "[encoded data removed]",
      "text/plain": [
       "<Figure size 432x288 with 3 Axes>"
      ]
     },
     "metadata": {
      "needs_background": "light"
     },
     "output_type": "display_data"
    }
   ],
   "source": [
    "from KDEpy import FFTKDE\n",
    "\n",
    "# Create 2D data of shape (obs, dims)\n",
    "data = np.array(coord_list_r)\n",
    "\n",
    "grid_points = 2**7  # Grid points in each dimension\n",
    "N = 16  # Number of contours\n",
    "\n",
    "fig = plt.figure()\n",
    "\n",
    "for plt_num, norm in enumerate([1, 2, np.inf], 1):\n",
    "\n",
    "    ax = fig.add_subplot(1, 3, plt_num)\n",
    "    ax.set_title(f'Norm $p={norm}$')\n",
    "\n",
    "    # Compute the kernel density estimate\n",
    "    kde = FFTKDE(kernel='box', norm=norm)\n",
    "    grid, points = kde.fit(data).evaluate(grid_points)\n",
    "\n",
    "    # The grid is of shape (obs, dims), points are of shape (obs, 1)\n",
    "    x, y = np.unique(grid[:, 0]), np.unique(grid[:, 1])\n",
    "    z = points.reshape(grid_points, grid_points).T\n",
    "\n",
    "    # Plot the kernel density estimate\n",
    "    ax.contour(x, y, z, N, linewidths=0.8, colors='k')\n",
    "    ax.contourf(x, y, z, N, cmap=\"RdBu_r\")\n",
    "    ax.plot(data[:, 0], data[:, 1], 'ok', ms=3)\n",
    "\n",
    "plt.tight_layout()"
   ]
  },
  {
   "cell_type": "code",
   "execution_count": 102,
   "id": "66d1c9b5",
   "metadata": {},
   "outputs": [
    {
     "data": {
      "text/plain": [
       "128"
      ]
     },
     "execution_count": 102,
     "metadata": {},
     "output_type": "execute_result"
    }
   ],
   "source": [
    "urban_distritos = gpd.read_file('/home/jsepulveda/urban_distritos.shp')"
   ]
  },
  {
   "cell_type": "code",
   "execution_count": 107,
   "id": "0d3255df",
   "metadata": {},
   "outputs": [
    {
     "data": {
      "image/png": "[encoded data removed]",
      "text/plain": [
       "<Figure size 432x288 with 1 Axes>"
      ]
     },
     "metadata": {
      "needs_background": "light"
     },
     "output_type": "display_data"
    }
   ],
   "source": [
    "from KDEpy import FFTKDE\n",
    "data = np.array(coord_list_r)\n",
    "\n",
    "# Notice how bw (standard deviation), kernel, weights and grid points are set\n",
    "x, y = FFTKDE(bw=1, kernel='gaussian').fit(data, weights=None).evaluate(2**8)\n",
    "\n",
    "plt.plot(x, y); plt.tight_layout()"
   ]
  },
  {
   "cell_type": "code",
   "execution_count": null,
   "id": "86413bcd",
   "metadata": {},
   "outputs": [],
   "source": []
  }
 ],
 "metadata": {
  "kernelspec": {
   "display_name": "Python 3",
   "language": "python",
   "name": "python3"
  },
  "language_info": {
   "codemirror_mode": {
    "name": "ipython",
    "version": 3
   },
   "file_extension": ".py",
   "mimetype": "text/x-python",
   "name": "python",
   "nbconvert_exporter": "python",
   "pygments_lexer": "ipython3",
   "version": "3.9.2"
  }
 },
 "nbformat": 4,
 "nbformat_minor": 5
}
