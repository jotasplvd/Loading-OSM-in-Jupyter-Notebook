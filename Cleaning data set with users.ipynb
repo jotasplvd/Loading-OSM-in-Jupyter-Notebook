{
 "cells": [
  {
   "cell_type": "code",
   "execution_count": 1,
   "id": "c292c59d",
   "metadata": {},
   "outputs": [
    {
     "name": "stderr",
     "output_type": "stream",
     "text": [
      "/home/jsepulveda/miniconda3/envs/myenv/lib/python3.9/site-packages/geopandas/_compat.py:106: UserWarning: The Shapely GEOS version (3.8.0-CAPI-1.13.1 ) is incompatible with the GEOS version PyGEOS was compiled with (3.9.0-CAPI-1.16.2). Conversions between both will be slow.\n",
      "  warnings.warn(\n"
     ]
    }
   ],
   "source": [
    "import pandas as pd\n",
    "import numpy as np\n",
    "import geopandas as gpd\n",
    "import shapely\n",
    "from shapely.geometry import *\n",
    "import matplotlib.pyplot as plt\n",
    "import pyrosm\n",
    "from pyrosm.data import sources\n",
    "from shapely import wkt\n",
    "import seaborn as sns\n",
    "import glob"
   ]
  },
  {
   "cell_type": "code",
   "execution_count": 2,
   "id": "baaf0498",
   "metadata": {},
   "outputs": [],
   "source": [
    "usuarios_objetivo = pd.read_csv('/home/jsepulveda/usuarios_objetivo_finales.csv')"
   ]
  },
  {
   "cell_type": "code",
   "execution_count": 3,
   "id": "c6f791d6",
   "metadata": {},
   "outputs": [],
   "source": [
    "usuarios_objetivo_lista=tuple(usuarios_objetivo['user'].to_list())"
   ]
  },
  {
   "cell_type": "code",
   "execution_count": 4,
   "id": "6b11b432",
   "metadata": {},
   "outputs": [],
   "source": [
    "# obtained from https://docs.faculty.ai/how_to/spark/local_spark.html\n",
    "import pyspark\n",
    "\n",
    "number_cores = 16\n",
    "memory_gb = 240\n",
    "tmp_dir = '/home/jsepulveda/' #cambialo a tu directorio home\n",
    "\n",
    "conf = (\n",
    "    pyspark.SparkConf()\n",
    "        .setMaster('local[{}]'.format(number_cores))\n",
    "        .set('spark.driver.memory', '{}g'.format(memory_gb))\n",
    "        .set('spark.local.dir', tmp_dir)\n",
    "        .set(\"spark.sql.join.preferSortMergeJoin\", \"true\") #force sort join\n",
    "        .set(\"spark.sql.autoBroadcastJoinThreshold\", \"1\") #force sort join\n",
    ")\n",
    "sc = pyspark.SparkContext(conf=conf)\n",
    "sql = pyspark.sql.SQLContext(sc)"
   ]
  },
  {
   "cell_type": "code",
   "execution_count": 5,
   "id": "4bbb69a3",
   "metadata": {},
   "outputs": [],
   "source": [
    "from glob import glob"
   ]
  },
  {
   "cell_type": "code",
   "execution_count": 6,
   "id": "547f40eb",
   "metadata": {},
   "outputs": [
    {
     "data": {
      "text/plain": [
       "['/home/jsepulveda/pre_inauguracion/day=16/']"
      ]
     },
     "execution_count": 6,
     "metadata": {},
     "output_type": "execute_result"
    }
   ],
   "source": [
    "# esto es para chequear si el directorio existe\n",
    "DATA_PATH = '/home/jsepulveda/pre_inauguracion/day=16/'\n",
    "files = glob(DATA_PATH)\n",
    "files"
   ]
  },
  {
   "cell_type": "code",
   "execution_count": 7,
   "id": "0f147560",
   "metadata": {
    "scrolled": true
   },
   "outputs": [
    {
     "name": "stdout",
     "output_type": "stream",
     "text": [
      "+------+------+---+--------------------+--------------------+-------+-------+-------+----+\n",
      "| fecha|  hora|dur|                numa|                numb|    rin|rinhead|rintail|tipo|\n",
      "+------+------+---+--------------------+--------------------+-------+-------+-------+----+\n",
      "|171016|133636|  2|fcb4b64966571d03a...|201d1ad4fde8bea37...|SFPOFU7|  SFPOF|     U7|   D|\n",
      "|171016|134920|  4|fcb4b64966571d03a...|201d1ad4fde8bea37...|SFPOFU7|  SFPOF|     U7|   D|\n",
      "|171016|141640|  1|fcb4b64966571d03a...|201d1ad4fde8bea37...|SFPOFU7|  SFPOF|     U7|   D|\n",
      "|171016|144640|  1|fcb4b64966571d03a...|201d1ad4fde8bea37...|SFPOFU7|  SFPOF|     U7|   D|\n",
      "|171016|145302| 12|fcb4b64966571d03a...|201d1ad4fde8bea37...|SFPOFU7|  SFPOF|     U7|   D|\n",
      "+------+------+---+--------------------+--------------------+-------+-------+-------+----+\n",
      "only showing top 5 rows\n",
      "\n"
     ]
    }
   ],
   "source": [
    "xdr = sql.read.csv(files, header=True,)\n",
    "xdr.createOrReplaceTempView(\"xdr\")\n",
    "xdr.show(5)"
   ]
  },
  {
   "cell_type": "code",
   "execution_count": 8,
   "id": "a93f35f4",
   "metadata": {
    "scrolled": false
   },
   "outputs": [
    {
     "name": "stdout",
     "output_type": "stream",
     "text": [
      "+------+------+------+--------------------+--------------------+-------+-------+-------+----+\n",
      "| fecha|  hora|   dur|                numa|                numb|    rin|rinhead|rintail|tipo|\n",
      "+------+------+------+--------------------+--------------------+-------+-------+-------+----+\n",
      "|171016|073311|     0|f60785dc54bee7eec...|201d1ad4fde8bea37...|ATICFL1|  ATICF|     L1|   D|\n",
      "|171016|075312|     0|f60785dc54bee7eec...|201d1ad4fde8bea37...|ATICFL1|  ATICF|     L1|   D|\n",
      "|171016|081314|     0|f60785dc54bee7eec...|201d1ad4fde8bea37...|ATICFL1|  ATICF|     L1|   D|\n",
      "|171016|083316|     0|f60785dc54bee7eec...|201d1ad4fde8bea37...|ATICFL1|  ATICF|     L1|   D|\n",
      "|171016|085317|     0|f60785dc54bee7eec...|201d1ad4fde8bea37...|ATICFL1|  ATICF|     L1|   D|\n",
      "|171016|080459| 11912|816a50e5839bd619c...|201d1ad4fde8bea37...|VDNOFL1|  VDNOF|     L1|   D|\n",
      "|171016|082645| 10416|816a50e5839bd619c...|201d1ad4fde8bea37...|MEBL5L1|  MEBL5|     L1|   D|\n",
      "|171016|084205|102416|816a50e5839bd619c...|201d1ad4fde8bea37...|CEMORU7|  CEMOR|     U7|   D|\n",
      "|171016|085337|  2174|816a50e5839bd619c...|201d1ad4fde8bea37...|MOHUFW7|  MOHUF|     W7|   D|\n",
      "|171016|073540| 46806|12fa68a08b7b2fe54...|8fe9e8fb60bdb19f7...|MRCHNL1|  MRCHN|     L1|   D|\n",
      "+------+------+------+--------------------+--------------------+-------+-------+-------+----+\n",
      "only showing top 10 rows\n",
      "\n"
     ]
    }
   ],
   "source": [
    "test_query = f'select * from xdr where numa in {usuarios_objetivo_lista} and hora between 73000 and 90000'\n",
    "sql.sql(test_query).show(10)"
   ]
  },
  {
   "cell_type": "code",
   "execution_count": 10,
   "id": "54095eb8",
   "metadata": {},
   "outputs": [],
   "source": [
    "pre_punta_mañana = sql.sql(test_query)\n",
    "pre_punta_mañana.write.parquet('pre_punta_mañana_dia_1.parquet', compression='snappy')\n"
   ]
  },
  {
   "cell_type": "code",
   "execution_count": null,
   "id": "cccc73b8",
   "metadata": {},
   "outputs": [],
   "source": []
  }
 ],
 "metadata": {
  "kernelspec": {
   "display_name": "Python 3",
   "language": "python",
   "name": "python3"
  },
  "language_info": {
   "codemirror_mode": {
    "name": "ipython",
    "version": 3
   },
   "file_extension": ".py",
   "mimetype": "text/x-python",
   "name": "python",
   "nbconvert_exporter": "python",
   "pygments_lexer": "ipython3",
   "version": "3.9.2"
  }
 },
 "nbformat": 4,
 "nbformat_minor": 5
}
